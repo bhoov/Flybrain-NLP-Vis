{
 "cells": [
  {
   "cell_type": "code",
   "execution_count": 1,
   "metadata": {},
   "outputs": [],
   "source": [
    "%reload_ext autoreload\n",
    "%autoreload 2"
   ]
  },
  {
   "cell_type": "code",
   "execution_count": 17,
   "metadata": {},
   "outputs": [],
   "source": [
    "import numpy as np\n",
    "import os\n",
    "import csv\n",
    "from scipy import stats\n",
    "import pickle\n",
    "import matplotlib\n",
    "import matplotlib.pyplot as plt\n",
    "from gensim.corpora import Dictionary\n",
    "from biohasher import Biohasher\n",
    "\n",
    "from __future__ import print_function\n",
    "from ipywidgets import interact, interactive, fixed, interact_manual\n",
    "import ipywidgets as widgets"
   ]
  },
  {
   "cell_type": "code",
   "execution_count": 18,
   "metadata": {},
   "outputs": [],
   "source": [
    "synapse_file = '../data/synapses/OWT_hid_400_W_11_LR_0.0002_14.npy'\n",
    "tokenizer_file = '../data/tokenizer/gensim1_patched.dict'\n",
    "stopword_file = '../data/tokenizer/exceptional_ids_terrier_stop.npy'\n",
    "normalize_synapses = True\n",
    "biohasher = Biohasher(synapse_file, tokenizer_file, stopword_file=stopword_file, normalize_synapses=normalize_synapses)"
   ]
  },
  {
   "cell_type": "code",
   "execution_count": 19,
   "metadata": {},
   "outputs": [
    {
     "name": "stdout",
     "output_type": "stream",
     "text": [
      "Loading synapses...\n"
     ]
    },
    {
     "data": {
      "text/plain": [
       "array([[-4.43565028e-07,  1.36138871e-02,  6.29986811e-04, ...,\n",
       "         4.43897079e-07,  1.14646364e-05, -4.43969441e-07],\n",
       "       [ 4.49971623e-07,  2.36383919e-02,  6.20333652e-04, ...,\n",
       "        -4.50004052e-07,  4.50628761e-07,  2.90354237e-05],\n",
       "       [-4.35325774e-07,  1.04162535e-02,  1.46046351e-03, ...,\n",
       "         4.35665356e-07,  1.21701187e-05,  4.35689259e-07],\n",
       "       ...,\n",
       "       [ 4.47546086e-07,  4.02045669e-03,  1.21266430e-03, ...,\n",
       "        -4.49028761e-07,  4.47576895e-07, -4.49313887e-07],\n",
       "       [ 5.98082863e-07,  6.22183830e-03,  9.74089140e-04, ...,\n",
       "         7.94543394e-06,  1.78764858e-05,  6.68392829e-07],\n",
       "       [ 9.68047516e-07,  3.38649952e-05,  2.12665577e-03, ...,\n",
       "        -9.82031565e-07,  2.41769976e-05,  2.87291659e-05]], dtype=float32)"
      ]
     },
     "execution_count": 19,
     "metadata": {},
     "output_type": "execute_result"
    }
   ],
   "source": [
    "biohasher.synapses"
   ]
  },
  {
   "cell_type": "code",
   "execution_count": 20,
   "metadata": {},
   "outputs": [
    {
     "name": "stdout",
     "output_type": "stream",
     "text": [
      "(400, 40000) 40000\n"
     ]
    }
   ],
   "source": [
    "N_voc=20000\n",
    "N=2*N_voc\n",
    "hid=400\n",
    "prec=1.0e-32\n",
    "p=2\n",
    "\n",
    "synapses=np.load('../data/synapses/OWT_hid_400_W_11_LR_0.0002_14.npy')\n",
    "print(synapses.shape, N)\n",
    "\n",
    "def normalize(syn):\n",
    "    [K,N]=syn.shape\n",
    "    nc=np.power(np.sum(syn**p,axis=1),1/p).reshape(K,1)\n",
    "    syn=syn/np.tile(nc+prec,(1,N))\n",
    "    return syn\n",
    "\n",
    "synapses=normalize(synapses)"
   ]
  },
  {
   "cell_type": "code",
   "execution_count": 21,
   "metadata": {},
   "outputs": [
    {
     "name": "stdout",
     "output_type": "stream",
     "text": [
      "20000\n"
     ]
    }
   ],
   "source": [
    "#VOC = Dictionary.load('/REMOTE/OpenWebText/models/gensim1_patched.dict')\n",
    "VOC = Dictionary.load('../data/tokenizer/gensim1_patched.dict')\n",
    "exceptional_tokens=np.load('../data/tokenizer/exceptional_ids_terrier_stop.npy')    \n",
    "\n",
    "N_VOC=len(VOC)\n",
    "print(N_VOC)\n",
    "\n",
    "tok2id={}\n",
    "for i in range(N_VOC):\n",
    "    tok2id[VOC[i]]=i"
   ]
  },
  {
   "cell_type": "code",
   "execution_count": 22,
   "metadata": {},
   "outputs": [
    {
     "name": "stdout",
     "output_type": "stream",
     "text": [
      "but 170 False\n",
      "that 31 False\n",
      "dialogue 3193 True\n",
      "did 259 False\n",
      "not 24 False\n",
      "reflect 2861 True\n",
      "the 32 False\n",
      "state 213 True\n",
      "of 25 False\n",
      "her 460 False\n",
      "marriage 5302 True\n",
      "told 845 True\n",
      "the 32 False\n",
      "magazine 1556 True\n",
      "(array([ 213,  845, 1556, 2861, 3193, 5302]), array([0, 0, 0, 0, 0, 0]))\n"
     ]
    }
   ],
   "source": [
    "#phrase = 'boat on the bank of the river'\n",
    "#phrase = 'apple latest iphone'\n",
    "#phrase = 'money in bank checking account'\n",
    "#phrase = 'the company stock is training high'\n",
    "#phrase = 'sweet crispy apple pie'\n",
    "phrase = 'But that dialogue did not reflect the state of her marriage Kidman told the magazine'\n",
    "#phrase = 'nation senior military leaders should quarantine after they were advised that Admiral Charles Ray with whom they had met with at a Pentagon meeting had tested positive for the virus'\n",
    "#phrase = 'my research focuses on the computational properties of neural networks'\n",
    "#phrase = 'trump administration campaign rally in oklahoma'\n",
    "#phrase = 'ibm corporation to acquire opensource software startup'\n",
    "#phrase = 'local government officials responded promptly to protests'\n",
    "#phrase = 'influenza virus outbreak in public schools'\n",
    "\n",
    "# Tokenize the phrase\n",
    "v = np.zeros((N,1))\n",
    "for w in phrase.split(' '):\n",
    "    w = w.lower()\n",
    "    if w in tok2id.keys():\n",
    "        print(w, tok2id[w], tok2id[w] not in exceptional_tokens)\n",
    "        if tok2id[w] not in exceptional_tokens:\n",
    "            v[tok2id[w],0] = 1.\n",
    "        \n",
    "        \n",
    "        \n",
    "print(np.nonzero(v))        \n",
    "nc = np.sqrt(np.sum(v*v))\n",
    "v = v/nc"
   ]
  },
  {
   "cell_type": "code",
   "execution_count": 24,
   "metadata": {},
   "outputs": [],
   "source": [
    "def softmax(x: np.array, beta=1.0):\n",
    "    v = np.exp(beta*x)\n",
    "    return v / np.sum(v)"
   ]
  },
  {
   "cell_type": "code",
   "execution_count": 25,
   "metadata": {},
   "outputs": [
    {
     "data": {
      "application/vnd.jupyter.widget-view+json": {
       "model_id": "1c2c731b2ded4e3f941e8721a32b5beb",
       "version_major": 2,
       "version_minor": 0
      },
      "text/plain": [
       "interactive(children=(IntSlider(value=0, description='ind_head', max=400), FloatSlider(value=10.0, description…"
      ]
     },
     "metadata": {},
     "output_type": "display_data"
    },
    {
     "data": {
      "text/plain": [
       "<function __main__.show_head_contribution(ind_head, beta=10.0, beta_tar=800.0, beta_con=10.0)>"
      ]
     },
     "execution_count": 25,
     "metadata": {},
     "output_type": "execute_result"
    }
   ],
   "source": [
    "def show_head_contribution(ind_head, beta=10.0, beta_tar=800.0, beta_con=10.0):\n",
    "    OV = np.dot(synapses,v)\n",
    "    SM = softmax(OV, beta)\n",
    "    mem_ordered = np.argsort(-SM[:,0])\n",
    "    print('Contribution of the chosen head', 100*SM[mem_ordered[ind_head],0])\n",
    "\n",
    "\n",
    "    RHS_tar= synapses[mem_ordered[ind_head],N_voc:]\n",
    "    RHS_con= synapses[mem_ordered[ind_head],:N_voc]\n",
    "\n",
    "    Z_out = np.sum(np.exp(beta_tar*RHS_tar))\n",
    "    RHS_tar_norm = np.exp(beta_tar*RHS_tar)/Z_out\n",
    "\n",
    "    N_show = 20\n",
    "    print('TARGET')\n",
    "    for ID in np.argsort(-RHS_tar_norm)[:N_show]:\n",
    "        print(ID, VOC[ID], int(ID) not in exceptional_tokens, 100*RHS_tar_norm[ID])\n",
    "\n",
    "    Z_out = np.sum(np.exp(beta_con*RHS_con))\n",
    "    RHS_con_norm = np.exp(beta_con*RHS_con)/Z_out\n",
    "\n",
    "    N_show = 20\n",
    "    print('CONTEXT')\n",
    "    for ID in np.argsort(-RHS_con_norm)[:N_show]:\n",
    "        print(ID, VOC[ID], int(ID) not in exceptional_tokens, 100*RHS_con_norm[ID])\n",
    "\n",
    "interact(show_head_contribution, \n",
    "         ind_head=widgets.IntSlider(min=0, max=400, step=1, value=0), \n",
    "         beta=widgets.FloatSlider(min=0.05, max=20.0, step=0.2, value=10.0),\n",
    "         beta_tar=widgets.FloatSlider(min=10, max=1000.0, step=20, value=800.0),\n",
    "         beta_con=widgets.FloatSlider(min=0.5, max=50, step=2, value=10),\n",
    "        )"
   ]
  },
  {
   "cell_type": "code",
   "execution_count": 27,
   "metadata": {},
   "outputs": [
    {
     "name": "stdout",
     "output_type": "stream",
     "text": [
      "Contribution of the chosen head 7.440782072503222\n",
      "TARGET\n",
      "859 islamic True 35.08584499359131\n",
      "2844 secretary True 8.452624827623367\n",
      "15737 kerry True 1.1010242626070976\n",
      "1538 department True 0.8490746840834618\n",
      "12319 tillerson True 0.4403265193104744\n",
      "213 state True 0.27652173303067684\n",
      "9478 rex True 0.1497171469964087\n",
      "3072 university True 0.0496988242957741\n",
      "12261 penn True 0.0492349558044225\n",
      "13011 ohio True 0.04402336198836565\n",
      "1246 justice True 0.04310351505409926\n",
      "858 iraq True 0.03920515882782638\n",
      "15083 levant True 0.0367013766663149\n",
      "3638 clinton True 0.03553197311703116\n",
      "3640 hillary True 0.03478354774415493\n",
      "4292 militants True 0.03137144376523793\n",
      "15613 legislatures True 0.03115883155260235\n",
      "5425 legislature True 0.028788219788111746\n",
      "4127 affairs True 0.027922206209041178\n",
      "894 local True 0.02577339473646134\n",
      "CONTEXT\n",
      "213 state True 23.084934055805206\n",
      "859 islamic True 0.0672393711283803\n",
      "1538 department True 0.03881174779962748\n",
      "2844 secretary True 0.024974113330245018\n",
      "12319 tillerson True 0.00597509388171602\n",
      "9478 rex True 0.005843312828801572\n",
      "13011 ohio True 0.005785202301922254\n",
      "15737 kerry True 0.005691358455806039\n",
      "12261 penn True 0.0056579228839837015\n",
      "5425 legislature True 0.0054767948313383386\n",
      "1246 justice True 0.005369857171899639\n",
      "15083 levant True 0.0053063897212268785\n",
      "15613 legislatures True 0.005211253301240504\n",
      "2726 federal True 0.00505167045048438\n",
      "858 iraq True 0.005021499964641407\n",
      "3072 university True 0.004860447370447218\n",
      "4127 affairs True 0.004850974437431432\n",
      "5101 michigan True 0.004831509431824088\n",
      "4292 militants True 0.0048237783630611375\n",
      "9249 treasury True 0.004797268775291741\n"
     ]
    }
   ],
   "source": [
    "beta = 10.0\n",
    "OV = np.dot(synapses,v)\n",
    "Z = np.sum(np.exp(beta*OV))\n",
    "SM = np.exp(beta*OV)/Z\n",
    "mem_ordered = np.argsort(-SM[:,0])\n",
    "\n",
    "ind_head = 1\n",
    "print('Contribution of the chosen head', 100*SM[mem_ordered[ind_head],0])\n",
    "\n",
    "RHS_tar= synapses[mem_ordered[ind_head],N_voc:]\n",
    "# RHS_tar= synapses[ind_head,N_voc:]\n",
    "RHS_con= synapses[mem_ordered[ind_head],:N_voc]\n",
    "\n",
    "beta_out_tar = 800.0\n",
    "Z_out = np.sum(np.exp(beta_out_tar*RHS_tar))\n",
    "RHS_tar_norm = np.exp(beta_out_tar*RHS_tar)/Z_out\n",
    "\n",
    "N_show = 20\n",
    "print('TARGET')\n",
    "for ID in np.argsort(-RHS_tar_norm)[:N_show]:\n",
    "    print(ID, VOC[ID], int(ID) not in exceptional_tokens, 100*RHS_tar_norm[ID])\n",
    "\n",
    "beta_out_con = 10.0\n",
    "Z_out = np.sum(np.exp(beta_out_con*RHS_con))\n",
    "RHS_con_norm = np.exp(beta_out_con*RHS_con)/Z_out\n",
    "    \n",
    "N_show = 20\n",
    "print('CONTEXT')\n",
    "for ID in np.argsort(-RHS_con_norm)[:N_show]:\n",
    "    print(ID, VOC[ID], int(ID) not in exceptional_tokens, 100*RHS_con_norm[ID])\n",
    "    "
   ]
  },
  {
   "cell_type": "code",
   "execution_count": 15,
   "metadata": {},
   "outputs": [
    {
     "data": {
      "text/plain": [
       "[{'token': 'years', 'contribution': 0.011394077},\n",
       " {'token': 'weeks', 'contribution': 0.0013536372},\n",
       " {'token': 'months', 'contribution': 0.00065373187},\n",
       " {'token': '<NUM>', 'contribution': 0.0004905109},\n",
       " {'token': 'spate', 'contribution': 0.00040324018},\n",
       " {'token': 'decades', 'contribution': 0.00021578977},\n",
       " {'token': 'developments', 'contribution': 0.00019786299},\n",
       " {'token': 'poll', 'contribution': 0.00019749136},\n",
       " {'token': 'days', 'contribution': 0.00019449818},\n",
       " {'token': 'study', 'contribution': 0.00018858637},\n",
       " {'token': 'report', 'contribution': 0.00018803438},\n",
       " {'token': 'interview', 'contribution': 0.00015840567},\n",
       " {'token': 'history', 'contribution': 0.00015452725},\n",
       " {'token': 'graduates', 'contribution': 0.0001543284},\n",
       " {'token': 'survey', 'contribution': 0.00015281916},\n",
       " {'token': 'polls', 'contribution': 0.00015257808},\n",
       " {'token': 'attacks', 'contribution': 0.00014666107},\n",
       " {'token': 'according', 'contribution': 0.00013803918},\n",
       " {'token': 'events', 'contribution': 0.00013622206},\n",
       " {'token': 'studies', 'contribution': 0.00013594468}]"
      ]
     },
     "execution_count": 15,
     "metadata": {},
     "output_type": "execute_result"
    }
   ],
   "source": [
    "biohasher.get_mem_concepts(1)"
   ]
  },
  {
   "cell_type": "code",
   "execution_count": 9,
   "metadata": {},
   "outputs": [
    {
     "data": {
      "application/vnd.jupyter.widget-view+json": {
       "model_id": "3f39dacde7d2457a89604b1884df8b02",
       "version_major": 2,
       "version_minor": 0
      },
      "text/plain": [
       "interactive(children=(Checkbox(value=True, description='x'), FloatSlider(value=1.0, description='y', max=3.0, …"
      ]
     },
     "metadata": {},
     "output_type": "display_data"
    }
   ],
   "source": [
    "@interact(x=True, y=1.0)\n",
    "def g(x, y):\n",
    "    return (x, y)"
   ]
  },
  {
   "cell_type": "code",
   "execution_count": null,
   "metadata": {},
   "outputs": [],
   "source": []
  }
 ],
 "metadata": {
  "kernelspec": {
   "display_name": "Python [conda env:flybrain] *",
   "language": "python",
   "name": "conda-env-flybrain-py"
  },
  "language_info": {
   "codemirror_mode": {
    "name": "ipython",
    "version": 3
   },
   "file_extension": ".py",
   "mimetype": "text/x-python",
   "name": "python",
   "nbconvert_exporter": "python",
   "pygments_lexer": "ipython3",
   "version": "3.8.6"
  }
 },
 "nbformat": 4,
 "nbformat_minor": 4
}
